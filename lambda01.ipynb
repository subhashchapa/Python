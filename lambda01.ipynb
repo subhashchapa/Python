{
  "nbformat": 4,
  "nbformat_minor": 0,
  "metadata": {
    "colab": {
      "name": "Untitled12.ipynb",
      "provenance": []
    },
    "kernelspec": {
      "name": "python3",
      "display_name": "Python 3"
    },
    "language_info": {
      "name": "python"
    }
  },
  "cells": [
    {
      "cell_type": "markdown",
      "source": [
        "**LAMBDA FUNCTION**"
      ],
      "metadata": {
        "id": "cYt-1BHxNFih"
      }
    },
    {
      "cell_type": "markdown",
      "source": [
        "lambda is a keyword.\n",
        "\n",
        "**lambda function** : which is a function and it can only perform one expression and it is an anonymous function(it doesn't contain any name)."
      ],
      "metadata": {
        "id": "IorCvSB8NkjQ"
      }
    },
    {
      "cell_type": "code",
      "execution_count": 2,
      "metadata": {
        "colab": {
          "base_uri": "https://localhost:8080/"
        },
        "id": "cWaTLfGpMwX5",
        "outputId": "ff161d75-0f99-45fd-a87a-f50fd5b3f092"
      },
      "outputs": [
        {
          "output_type": "stream",
          "name": "stdout",
          "text": [
            "sum is 10\n",
            "mul is 24\n"
          ]
        }
      ],
      "source": [
        "#normal function\n",
        "def fun(a,b,c,d):\n",
        "  print(\"sum is\",a+b+c+d)\n",
        "  print(\"mul is\",a*b*c*d)\n",
        "fun(1,2,3,4)"
      ]
    },
    {
      "cell_type": "code",
      "source": [
        "#lambda function\n",
        "x=lambda a,b,c,d:a+b+c+d\n",
        "print(x(1,2,3,4))\n",
        "\n",
        "#it can only perform one operation\n"
      ],
      "metadata": {
        "colab": {
          "base_uri": "https://localhost:8080/"
        },
        "id": "eE3g0o46NjVn",
        "outputId": "fb5b3af6-dcc6-4171-de74-e48eecd5bb91"
      },
      "execution_count": 12,
      "outputs": [
        {
          "output_type": "stream",
          "name": "stdout",
          "text": [
            "10\n"
          ]
        }
      ]
    },
    {
      "cell_type": "code",
      "source": [
        "#syntax\n",
        "#print((lambda f_arguements:expression)(A_arguements))\n",
        "print((lambda a,b,c:a*b*c)(7,26,5))"
      ],
      "metadata": {
        "colab": {
          "base_uri": "https://localhost:8080/"
        },
        "id": "TUXyU7M4P7vA",
        "outputId": "2156172a-7a24-4cac-a5b1-d13c70c5453d"
      },
      "execution_count": 20,
      "outputs": [
        {
          "output_type": "stream",
          "name": "stdout",
          "text": [
            "910\n"
          ]
        }
      ]
    },
    {
      "cell_type": "code",
      "source": [
        "#using lambda function inside another function\n",
        "def add(a,b,c,d):\n",
        "  print((lambda j,k,l,m:j+k+l+m)(a,b,c,d))\n",
        "add(7,77,777,7777)\n"
      ],
      "metadata": {
        "colab": {
          "base_uri": "https://localhost:8080/"
        },
        "id": "xicgsjOCQqLl",
        "outputId": "c2dfc991-db1e-425b-8afd-42b5b0d59456"
      },
      "execution_count": 15,
      "outputs": [
        {
          "output_type": "stream",
          "name": "stdout",
          "text": [
            "8638\n"
          ]
        }
      ]
    },
    {
      "cell_type": "code",
      "source": [
        "#lambda for conditional assignments\n",
        "a=lambda x:x*10 if(x<10) else x-10\n",
        "print(a(9))\n",
        "print(a(19))"
      ],
      "metadata": {
        "colab": {
          "base_uri": "https://localhost:8080/"
        },
        "id": "N9ooXz6_SofH",
        "outputId": "c35dc245-e255-4271-9e10-b225fad0c101"
      },
      "execution_count": 23,
      "outputs": [
        {
          "output_type": "stream",
          "name": "stdout",
          "text": [
            "90\n",
            "9\n"
          ]
        }
      ]
    },
    {
      "cell_type": "code",
      "source": [
        "#lambda for assignment\n",
        "tables=[lambda x=x:x*7 for x in range(1,10)]\n",
        "#print(tables)\n",
        "#inorder to print tables we need to call the lambda function\n",
        "for i in tables:\n",
        "  print(i())"
      ],
      "metadata": {
        "colab": {
          "base_uri": "https://localhost:8080/"
        },
        "id": "7fMjsEOmUS-v",
        "outputId": "9ab5ca1c-aec8-4612-b18f-3a51290926f9"
      },
      "execution_count": 31,
      "outputs": [
        {
          "output_type": "stream",
          "name": "stdout",
          "text": [
            "7\n",
            "14\n",
            "21\n",
            "28\n",
            "35\n",
            "42\n",
            "49\n",
            "56\n",
            "63\n"
          ]
        }
      ]
    },
    {
      "cell_type": "markdown",
      "source": [
        "**comprehension** : the process of performing tasks in short and precise way.\n",
        "There are 4 types of comprehension\n",
        "\n",
        "1.List\n",
        "\n",
        "2.Set\n",
        "\n",
        "3.Dict\n",
        "\n",
        "4.Generator"
      ],
      "metadata": {
        "id": "o5FHM6kiWCJd"
      }
    },
    {
      "cell_type": "markdown",
      "source": [
        "**List Comprehension**"
      ],
      "metadata": {
        "id": "Nwir1y-tXQRt"
      }
    },
    {
      "cell_type": "code",
      "source": [
        "mylist=[1,2,3,5,6,7,8]\n",
        "print(mylist)\n",
        "\n",
        "even_list=[]\n",
        "odd_list=[]\n",
        "for i in mylist:\n",
        "  if i%2==0:\n",
        "    even_list.append(i)\n",
        "  else:\n",
        "    odd_list.append(i)\n",
        "print(\"even_list=\",even_list,\"\\nodd_list=\",odd_list);"
      ],
      "metadata": {
        "colab": {
          "base_uri": "https://localhost:8080/"
        },
        "id": "f9ClgNuNWito",
        "outputId": "7a3fff23-33ba-41e1-f7a7-5056e6efcd86"
      },
      "execution_count": 36,
      "outputs": [
        {
          "output_type": "stream",
          "name": "stdout",
          "text": [
            "[1, 2, 3, 5, 6, 7, 8]\n",
            "even_list= [2, 6, 8] \n",
            "odd_list= [1, 3, 5, 7]\n"
          ]
        }
      ]
    },
    {
      "cell_type": "code",
      "source": [
        "even=[value for value in mylist if value%2==0]\n",
        "odd=[value for value in mylist if value%2!=0]\n",
        "print(\" \",even,\"\\n\",odd)"
      ],
      "metadata": {
        "colab": {
          "base_uri": "https://localhost:8080/"
        },
        "id": "UkR52Xj0X60U",
        "outputId": "7b21b777-4a19-4f2b-c6f4-30dba64b5cfe"
      },
      "execution_count": 38,
      "outputs": [
        {
          "output_type": "stream",
          "name": "stdout",
          "text": [
            "  [2, 6, 8] \n",
            " [1, 3, 5, 7]\n"
          ]
        }
      ]
    },
    {
      "cell_type": "markdown",
      "source": [
        "**Dict Comprehensio**\n",
        "it consits of key and value"
      ],
      "metadata": {
        "id": "3Je1bVvRZhrm"
      }
    },
    {
      "cell_type": "code",
      "source": [
        "dict={}\n",
        "for i in mylist:\n",
        "  dict[i]=i*7\n",
        "print(dict)\n",
        "\n",
        "#comprehension\n",
        "dict={value:value*2 for value in mylist}\n",
        "print(dict)"
      ],
      "metadata": {
        "colab": {
          "base_uri": "https://localhost:8080/"
        },
        "id": "djsOmWRvZqG6",
        "outputId": "1852c2b5-bead-4da8-f59e-42f7e1fcee85"
      },
      "execution_count": 40,
      "outputs": [
        {
          "output_type": "stream",
          "name": "stdout",
          "text": [
            "{1: 7, 2: 14, 3: 21, 5: 35, 6: 42, 7: 49, 8: 56}\n",
            "{1: 2, 2: 4, 3: 6, 5: 10, 6: 12, 7: 14, 8: 16}\n"
          ]
        }
      ]
    },
    {
      "cell_type": "code",
      "source": [
        "sett=set()\n",
        "print(mylist)\n",
        "for i in mylist:\n",
        "  if i%2==0:\n",
        "    sett.add(i)\n",
        "print(sett)"
      ],
      "metadata": {
        "colab": {
          "base_uri": "https://localhost:8080/"
        },
        "id": "pPKftq2uadk6",
        "outputId": "04460cc2-c500-4941-bc25-171d0af1c04a"
      },
      "execution_count": 43,
      "outputs": [
        {
          "output_type": "stream",
          "name": "stdout",
          "text": [
            "[1, 2, 3, 5, 6, 7, 8]\n",
            "{8, 2, 6}\n"
          ]
        }
      ]
    },
    {
      "cell_type": "code",
      "source": [
        "sett={value for value in mylist if value%2==0}\n",
        "#print(set(sett))\n",
        "print(sett)"
      ],
      "metadata": {
        "colab": {
          "base_uri": "https://localhost:8080/"
        },
        "id": "IwgX7NCXbBan",
        "outputId": "99f270f2-4b5c-4c0d-aa16-dbf232a5553c"
      },
      "execution_count": 48,
      "outputs": [
        {
          "output_type": "stream",
          "name": "stdout",
          "text": [
            "{8, 2, 6}\n",
            "{8, 2, 6}\n"
          ]
        }
      ]
    },
    {
      "cell_type": "markdown",
      "source": [
        "generator to be learned "
      ],
      "metadata": {
        "id": "7MgYWzTmdM_-"
      }
    }
  ]
}